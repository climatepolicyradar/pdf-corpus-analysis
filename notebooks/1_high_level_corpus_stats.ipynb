{
 "cells": [
  {
   "cell_type": "markdown",
   "id": "a6933a8b-5d28-46aa-a8c6-87a9c09ebd18",
   "metadata": {},
   "source": [
    "# High-Level Corpus Stats"
   ]
  },
  {
   "cell_type": "code",
   "execution_count": 21,
   "id": "b2293a58-fb54-44b7-a149-292b4278c4fb",
   "metadata": {},
   "outputs": [
    {
     "data": {
      "text/plain": [
       "'/Users/kalyan/Documents/CPR/policy-search/data/corpus/content'"
      ]
     },
     "execution_count": 21,
     "metadata": {},
     "output_type": "execute_result"
    }
   ],
   "source": [
    "import os\n",
    "import glob\n",
    "\n",
    "from tqdm.auto import tqdm\n",
    "from dotenv import load_dotenv\n",
    "import PyPDF2\n",
    "import fitz\n",
    "import pandas as pd\n",
    "import seaborn as sns\n",
    "\n",
    "load_dotenv()\n",
    "CORPUS_PATH = os.getenv(\"CORPUS_PATH\")\n",
    "\n",
    "CORPUS_PATH"
   ]
  },
  {
   "cell_type": "markdown",
   "id": "809abab4-d505-4ea0-b2eb-09a2c4a51998",
   "metadata": {},
   "source": [
    "## 1. File formats"
   ]
  },
  {
   "cell_type": "code",
   "execution_count": 2,
   "id": "91463a2d-bec9-495b-bdf2-ee1041953fdc",
   "metadata": {},
   "outputs": [
    {
     "name": "stdout",
     "output_type": "stream",
     "text": [
      "3378 files with extension .html\n",
      "0 files with extension .HTML\n",
      "0 files with extension .htm\n",
      "0 files with extension .HTM\n",
      "2824 files with extension .pdf\n",
      "0 files with extension .PDF\n"
     ]
    }
   ],
   "source": [
    "possible_extensions = [\".html\", \".HTML\", \".htm\", \".HTM\", \".pdf\", \".PDF\",]\n",
    "\n",
    "files_with_ext = dict()\n",
    "\n",
    "for ext in possible_extensions:\n",
    "    files_with_ext[ext] = glob.glob(f\"{CORPUS_PATH}/*{ext}\")\n",
    "    print(f\"{len(files_with_ext[ext])} files with extension {ext}\")"
   ]
  },
  {
   "cell_type": "markdown",
   "id": "d3c6d4df-a064-4bd1-84d8-f5b8f1526d1b",
   "metadata": {},
   "source": [
    "## 2. PDF Analysis"
   ]
  },
  {
   "cell_type": "markdown",
   "id": "085758c7-dfb9-442d-a43f-4a9f97e1e8ef",
   "metadata": {},
   "source": [
    "### Number of pages per PDF"
   ]
  },
  {
   "cell_type": "code",
   "execution_count": 3,
   "id": "53dbc325-f37e-4b6a-8320-e423e3f6225e",
   "metadata": {},
   "outputs": [
    {
     "data": {
      "application/vnd.jupyter.widget-view+json": {
       "model_id": "0cb7fdf4da1747b6b510fa647921d980",
       "version_major": 2,
       "version_minor": 0
      },
      "text/plain": [
       "  0%|          | 0/2824 [00:00<?, ?it/s]"
      ]
     },
     "metadata": {},
     "output_type": "display_data"
    }
   ],
   "source": [
    "num_pages = dict()\n",
    "\n",
    "for fname in tqdm(files_with_ext[\".pdf\"] + files_with_ext[\".PDF\"]):\n",
    "    with open(fname, \"rb\") as f:\n",
    "        try:\n",
    "            num_pages[fname] = PyPDF2.PdfFileReader(f, strict=False).numPages\n",
    "        except Exception as e:\n",
    "            num_pages[fname] = f\"Exception: {e}\"\n",
    "    "
   ]
  },
  {
   "cell_type": "code",
   "execution_count": 20,
   "id": "a4e8c408-d16e-4abb-ba19-cd1923068164",
   "metadata": {},
   "outputs": [
    {
     "name": "stdout",
     "output_type": "stream",
     "text": [
      "TOTAL NO PAGES: 166247\n"
     ]
    },
    {
     "data": {
      "image/png": "[encoded data removed]",
      "text/plain": [
       "<Figure size 432x288 with 1 Axes>"
      ]
     },
     "metadata": {
      "needs_background": "light"
     },
     "output_type": "display_data"
    }
   ],
   "source": [
    "page_count_df = pd.DataFrame.from_dict({k:v for k,v in num_pages.items() if not str(v).startswith(\"Exception\")}, orient=\"index\").rename(columns={0: \"count\"})\n",
    "print(f\"TOTAL NO PAGES: {page_count_df['count'].sum()}\")\n",
    "sns.boxplot(x=page_count_df['count']).set_title(\"Distribution of page count per PDF document\");"
   ]
  },
  {
   "cell_type": "code",
   "execution_count": 61,
   "id": "4b38d949-d182-412d-bb8d-d3478e650b79",
   "metadata": {},
   "outputs": [
    {
     "data": {
      "text/plain": [
       "count    2770.000000\n",
       "mean       60.016968\n",
       "std        88.794479\n",
       "min         1.000000\n",
       "25%        10.000000\n",
       "50%        28.000000\n",
       "75%        74.000000\n",
       "max      1202.000000\n",
       "Name: count, dtype: float64"
      ]
     },
     "execution_count": 61,
     "metadata": {},
     "output_type": "execute_result"
    }
   ],
   "source": [
    "page_count_df['count'].describe()"
   ]
  },
  {
   "cell_type": "markdown",
   "id": "ab6e9752-a2b9-4cf9-b4f0-2218268d4f45",
   "metadata": {},
   "source": [
    "### Scanned vs Non-scanned\n",
    "\n",
    "Here we check to see whether there's text embedded in each PDF."
   ]
  },
  {
   "cell_type": "code",
   "execution_count": 37,
   "id": "21e05c28-76c0-468c-890b-0608e87bb010",
   "metadata": {
    "collapsed": true,
    "jupyter": {
     "outputs_hidden": true
    },
    "tags": []
   },
   "outputs": [
    {
     "data": {
      "application/vnd.jupyter.widget-view+json": {
       "model_id": "c47b2e37b7b946909259b3411bad3ccd",
       "version_major": 2,
       "version_minor": 0
      },
      "text/plain": [
       "  0%|          | 0/2824 [00:00<?, ?it/s]"
      ]
     },
     "metadata": {},
     "output_type": "display_data"
    },
    {
     "name": "stderr",
     "output_type": "stream",
     "text": [
      "Deprecation: 'getText' removed from class 'Page' after v1.19 - use 'get_text'.\n",
      "mupdf: expected object number\n",
      "mupdf: expected object number\n",
      "mupdf: expected generation number (0 ? obj)\n",
      "mupdf: expected object number\n",
      "mupdf: No default Layer config\n",
      "mupdf: No default Layer config\n",
      "mupdf: expected object number\n",
      "mupdf: expected object number\n",
      "mupdf: expected object number\n",
      "mupdf: cannot find startxref\n",
      "mupdf: expected object number\n",
      "mupdf: cmsOpenProfileFromMem failed\n",
      "mupdf: No default Layer config\n",
      "mupdf: expected object number\n",
      "mupdf: expected object number\n",
      "mupdf: cmsOpenProfileFromMem failed\n",
      "mupdf: cannot find startxref\n",
      "mupdf: invalid key in dict\n",
      "mupdf: cmsOpenProfileFromMem failed\n",
      "mupdf: expected object number\n",
      "mupdf: cannot find startxref\n",
      "mupdf: expected object number\n",
      "mupdf: No default Layer config\n",
      "mupdf: expected object number\n",
      "mupdf: cannot find startxref\n",
      "mupdf: expected object number\n",
      "mupdf: expected object number\n",
      "mupdf: cannot find startxref\n",
      "mupdf: expected object number\n",
      "mupdf: expected object number\n",
      "mupdf: expected object number\n",
      "mupdf: expected object number\n",
      "mupdf: No default Layer config\n",
      "mupdf: No default Layer config\n",
      "mupdf: cannot find startxref\n",
      "mupdf: invalid page object\n",
      "mupdf: invalid page object\n",
      "mupdf: cannot find startxref\n",
      "mupdf: expected object number\n",
      "mupdf: expected object number\n",
      "mupdf: cmsOpenProfileFromMem failed\n",
      "mupdf: xref subsection length missing\n",
      "mupdf: cannot find startxref\n",
      "mupdf: No default Layer config\n",
      "mupdf: expected object number\n",
      "mupdf: cannot create appearance stream for Movie annotations\n",
      "mupdf: cannot create appearance stream for Movie annotations\n",
      "mupdf: cannot create appearance stream for Movie annotations\n",
      "mupdf: cannot create appearance stream for Movie annotations\n",
      "mupdf: cannot create appearance stream for Movie annotations\n",
      "mupdf: cannot create appearance stream for Movie annotations\n",
      "mupdf: No default Layer config\n",
      "mupdf: expected object number\n",
      "mupdf: cannot find startxref\n",
      "mupdf: cmsOpenProfileFromMem failed\n",
      "mupdf: expected object number\n",
      "mupdf: expected object number\n",
      "mupdf: No default Layer config\n",
      "mupdf: cannot find startxref\n",
      "mupdf: object is not a stream\n",
      "mupdf: object out of range (10257 0 R); xref size 974\n",
      "mupdf: object out of range (10257 0 R); xref size 974\n",
      "mupdf: object out of range (10257 0 R); xref size 974\n",
      "mupdf: object out of range (10257 0 R); xref size 974\n",
      "mupdf: object out of range (10257 0 R); xref size 974\n",
      "mupdf: object out of range (10257 0 R); xref size 974\n",
      "mupdf: object out of range (10257 0 R); xref size 974\n",
      "mupdf: object out of range (10257 0 R); xref size 974\n",
      "mupdf: object out of range (10257 0 R); xref size 974\n",
      "mupdf: object out of range (10257 0 R); xref size 974\n",
      "mupdf: object out of range (10257 0 R); xref size 974\n",
      "mupdf: object out of range (10257 0 R); xref size 974\n",
      "mupdf: object out of range (10257 0 R); xref size 974\n",
      "mupdf: object out of range (10257 0 R); xref size 974\n",
      "mupdf: object out of range (10257 0 R); xref size 974\n",
      "mupdf: object out of range (10257 0 R); xref size 974\n",
      "mupdf: object out of range (10257 0 R); xref size 974\n",
      "mupdf: object out of range (10257 0 R); xref size 974\n",
      "mupdf: object out of range (10257 0 R); xref size 974\n",
      "mupdf: object out of range (10257 0 R); xref size 974\n",
      "mupdf: object out of range (10257 0 R); xref size 974\n",
      "mupdf: object out of range (10257 0 R); xref size 974\n",
      "mupdf: object out of range (10257 0 R); xref size 974\n",
      "mupdf: object out of range (10257 0 R); xref size 974\n",
      "mupdf: object out of range (10257 0 R); xref size 974\n",
      "mupdf: object out of range (10257 0 R); xref size 974\n",
      "mupdf: object out of range (10257 0 R); xref size 974\n",
      "mupdf: object out of range (10257 0 R); xref size 974\n",
      "mupdf: object out of range (10257 0 R); xref size 974\n",
      "mupdf: object out of range (10257 0 R); xref size 974\n",
      "mupdf: object out of range (10257 0 R); xref size 974\n",
      "mupdf: object out of range (10257 0 R); xref size 974\n",
      "mupdf: object out of range (10257 0 R); xref size 974\n",
      "mupdf: object out of range (10257 0 R); xref size 974\n",
      "mupdf: object out of range (10257 0 R); xref size 974\n",
      "mupdf: object out of range (10257 0 R); xref size 974\n",
      "mupdf: object out of range (10257 0 R); xref size 974\n",
      "mupdf: object out of range (10257 0 R); xref size 974\n",
      "mupdf: object out of range (10257 0 R); xref size 974\n",
      "mupdf: object out of range (10257 0 R); xref size 974\n",
      "mupdf: object out of range (10257 0 R); xref size 974\n",
      "mupdf: object out of range (10257 0 R); xref size 974\n",
      "mupdf: object out of range (10257 0 R); xref size 974\n",
      "mupdf: object out of range (10257 0 R); xref size 974\n",
      "mupdf: object out of range (10257 0 R); xref size 974\n",
      "mupdf: object out of range (10257 0 R); xref size 974\n",
      "mupdf: object out of range (10257 0 R); xref size 974\n",
      "mupdf: object out of range (10257 0 R); xref size 974\n",
      "mupdf: object out of range (10257 0 R); xref size 974\n",
      "mupdf: object out of range (10257 0 R); xref size 974\n",
      "mupdf: object out of range (10257 0 R); xref size 974\n",
      "mupdf: object out of range (10257 0 R); xref size 974\n",
      "mupdf: object out of range (10257 0 R); xref size 974\n",
      "mupdf: object out of range (10257 0 R); xref size 974\n",
      "mupdf: object out of range (10257 0 R); xref size 974\n",
      "mupdf: object out of range (10257 0 R); xref size 974\n",
      "mupdf: object out of range (10257 0 R); xref size 974\n",
      "mupdf: object out of range (10257 0 R); xref size 974\n",
      "mupdf: object out of range (10257 0 R); xref size 974\n",
      "mupdf: object out of range (10257 0 R); xref size 974\n",
      "mupdf: object out of range (10257 0 R); xref size 974\n",
      "mupdf: object out of range (10257 0 R); xref size 974\n",
      "mupdf: object out of range (10257 0 R); xref size 974\n",
      "mupdf: object out of range (10257 0 R); xref size 974\n",
      "mupdf: object out of range (10257 0 R); xref size 974\n",
      "mupdf: object out of range (10257 0 R); xref size 974\n",
      "mupdf: object out of range (10257 0 R); xref size 974\n",
      "mupdf: object out of range (10257 0 R); xref size 974\n",
      "mupdf: object out of range (10257 0 R); xref size 974\n",
      "mupdf: object out of range (10257 0 R); xref size 974\n",
      "mupdf: object out of range (10257 0 R); xref size 974\n",
      "mupdf: object out of range (10257 0 R); xref size 974\n",
      "mupdf: object out of range (10257 0 R); xref size 974\n",
      "mupdf: object out of range (10257 0 R); xref size 974\n",
      "mupdf: object out of range (10257 0 R); xref size 974\n",
      "mupdf: object out of range (10257 0 R); xref size 974\n",
      "mupdf: object out of range (10257 0 R); xref size 974\n",
      "mupdf: object out of range (10257 0 R); xref size 974\n",
      "mupdf: object out of range (10257 0 R); xref size 974\n",
      "mupdf: object out of range (10257 0 R); xref size 974\n",
      "mupdf: object out of range (10257 0 R); xref size 974\n",
      "mupdf: object out of range (10257 0 R); xref size 974\n",
      "mupdf: object out of range (10257 0 R); xref size 974\n",
      "mupdf: object out of range (10257 0 R); xref size 974\n",
      "mupdf: object out of range (10257 0 R); xref size 974\n",
      "mupdf: object out of range (10257 0 R); xref size 974\n",
      "mupdf: object out of range (10257 0 R); xref size 974\n",
      "mupdf: object out of range (10257 0 R); xref size 974\n",
      "mupdf: object out of range (10257 0 R); xref size 974\n",
      "mupdf: object out of range (10257 0 R); xref size 974\n",
      "mupdf: object out of range (10257 0 R); xref size 974\n",
      "mupdf: object out of range (10257 0 R); xref size 974\n",
      "mupdf: object out of range (10257 0 R); xref size 974\n",
      "mupdf: object out of range (10257 0 R); xref size 974\n",
      "mupdf: object out of range (10257 0 R); xref size 974\n",
      "mupdf: object out of range (10257 0 R); xref size 974\n",
      "mupdf: object out of range (10257 0 R); xref size 974\n",
      "mupdf: object out of range (10257 0 R); xref size 974\n",
      "mupdf: object out of range (10257 0 R); xref size 974\n",
      "mupdf: object out of range (10257 0 R); xref size 974\n",
      "mupdf: object out of range (10257 0 R); xref size 974\n",
      "mupdf: object out of range (10257 0 R); xref size 974\n",
      "mupdf: object out of range (10257 0 R); xref size 974\n",
      "mupdf: object out of range (10257 0 R); xref size 974\n",
      "mupdf: object out of range (10257 0 R); xref size 974\n",
      "mupdf: object out of range (10257 0 R); xref size 974\n",
      "mupdf: object out of range (10257 0 R); xref size 974\n",
      "mupdf: object out of range (10257 0 R); xref size 974\n",
      "mupdf: object out of range (10257 0 R); xref size 974\n",
      "mupdf: object out of range (10257 0 R); xref size 974\n",
      "mupdf: object out of range (10257 0 R); xref size 974\n",
      "mupdf: object out of range (10257 0 R); xref size 974\n",
      "mupdf: object out of range (10257 0 R); xref size 974\n",
      "mupdf: object out of range (10257 0 R); xref size 974\n",
      "mupdf: object out of range (10257 0 R); xref size 974\n",
      "mupdf: object out of range (10257 0 R); xref size 974\n",
      "mupdf: object out of range (10257 0 R); xref size 974\n",
      "mupdf: object out of range (10257 0 R); xref size 974\n",
      "mupdf: object out of range (10257 0 R); xref size 974\n",
      "mupdf: object out of range (10257 0 R); xref size 974\n",
      "mupdf: object out of range (10257 0 R); xref size 974\n",
      "mupdf: object out of range (10257 0 R); xref size 974\n",
      "mupdf: object out of range (10257 0 R); xref size 974\n",
      "mupdf: object out of range (10257 0 R); xref size 974\n",
      "mupdf: object out of range (10257 0 R); xref size 974\n",
      "mupdf: object out of range (10257 0 R); xref size 974\n",
      "mupdf: object out of range (10257 0 R); xref size 974\n",
      "mupdf: object out of range (10257 0 R); xref size 974\n",
      "mupdf: object out of range (10257 0 R); xref size 974\n",
      "mupdf: object out of range (10257 0 R); xref size 974\n",
      "mupdf: object out of range (10257 0 R); xref size 974\n",
      "mupdf: object out of range (10257 0 R); xref size 974\n",
      "mupdf: object out of range (10257 0 R); xref size 974\n",
      "mupdf: object out of range (10257 0 R); xref size 974\n",
      "mupdf: object out of range (10257 0 R); xref size 974\n",
      "mupdf: object out of range (10257 0 R); xref size 974\n",
      "mupdf: object out of range (10257 0 R); xref size 974\n",
      "mupdf: object out of range (10257 0 R); xref size 974\n",
      "mupdf: object out of range (10257 0 R); xref size 974\n",
      "mupdf: object out of range (10257 0 R); xref size 974\n",
      "mupdf: object out of range (10257 0 R); xref size 974\n",
      "mupdf: object out of range (10257 0 R); xref size 974\n",
      "mupdf: object out of range (10257 0 R); xref size 974\n",
      "mupdf: object out of range (10257 0 R); xref size 974\n",
      "mupdf: object out of range (10257 0 R); xref size 974\n",
      "mupdf: object out of range (10257 0 R); xref size 974\n",
      "mupdf: object out of range (10257 0 R); xref size 974\n",
      "mupdf: object out of range (10257 0 R); xref size 974\n",
      "mupdf: object out of range (10257 0 R); xref size 974\n",
      "mupdf: object out of range (10257 0 R); xref size 974\n",
      "mupdf: object out of range (10257 0 R); xref size 974\n",
      "mupdf: object out of range (10257 0 R); xref size 974\n",
      "mupdf: object out of range (10257 0 R); xref size 974\n",
      "mupdf: object out of range (10257 0 R); xref size 974\n",
      "mupdf: object out of range (10257 0 R); xref size 974\n",
      "mupdf: object out of range (10257 0 R); xref size 974\n",
      "mupdf: object out of range (10257 0 R); xref size 974\n",
      "mupdf: object out of range (10257 0 R); xref size 974\n",
      "mupdf: object out of range (10257 0 R); xref size 974\n",
      "mupdf: object out of range (10257 0 R); xref size 974\n",
      "mupdf: object out of range (10257 0 R); xref size 974\n",
      "mupdf: object out of range (10257 0 R); xref size 974\n",
      "mupdf: object out of range (10257 0 R); xref size 974\n",
      "mupdf: object out of range (10257 0 R); xref size 974\n",
      "mupdf: object out of range (10257 0 R); xref size 974\n",
      "mupdf: object out of range (10257 0 R); xref size 974\n",
      "mupdf: object out of range (10257 0 R); xref size 974\n",
      "mupdf: object out of range (10257 0 R); xref size 974\n",
      "mupdf: object out of range (10257 0 R); xref size 974\n",
      "mupdf: object out of range (10257 0 R); xref size 974\n",
      "mupdf: object out of range (10257 0 R); xref size 974\n",
      "mupdf: object out of range (10257 0 R); xref size 974\n",
      "mupdf: object out of range (10257 0 R); xref size 974\n",
      "mupdf: object out of range (10257 0 R); xref size 974\n",
      "mupdf: object out of range (10257 0 R); xref size 974\n",
      "mupdf: object out of range (10257 0 R); xref size 974\n",
      "mupdf: object out of range (10257 0 R); xref size 974\n",
      "mupdf: object out of range (10257 0 R); xref size 974\n",
      "mupdf: object out of range (10257 0 R); xref size 974\n",
      "mupdf: object out of range (10257 0 R); xref size 974\n",
      "mupdf: object out of range (10257 0 R); xref size 974\n",
      "mupdf: object out of range (10257 0 R); xref size 974\n",
      "mupdf: object out of range (10257 0 R); xref size 974\n",
      "mupdf: object out of range (10257 0 R); xref size 974\n",
      "mupdf: object out of range (10257 0 R); xref size 974\n",
      "mupdf: object out of range (10257 0 R); xref size 974\n",
      "mupdf: object out of range (10257 0 R); xref size 974\n",
      "mupdf: object out of range (10257 0 R); xref size 974\n",
      "mupdf: object out of range (10257 0 R); xref size 974\n",
      "mupdf: object out of range (10257 0 R); xref size 974\n",
      "mupdf: object out of range (10257 0 R); xref size 974\n",
      "mupdf: object out of range (10257 0 R); xref size 974\n",
      "mupdf: object out of range (10257 0 R); xref size 974\n",
      "mupdf: object out of range (10257 0 R); xref size 974\n",
      "mupdf: object out of range (10257 0 R); xref size 974\n",
      "mupdf: object out of range (10257 0 R); xref size 974\n",
      "mupdf: object out of range (10257 0 R); xref size 974\n",
      "mupdf: object out of range (10257 0 R); xref size 974\n",
      "mupdf: object out of range (10257 0 R); xref size 974\n",
      "mupdf: object out of range (10257 0 R); xref size 974\n",
      "mupdf: object out of range (10257 0 R); xref size 974\n",
      "mupdf: object out of range (10257 0 R); xref size 974\n",
      "mupdf: object out of range (10257 0 R); xref size 974\n",
      "mupdf: object out of range (10257 0 R); xref size 974\n",
      "mupdf: object out of range (10257 0 R); xref size 974\n",
      "mupdf: object out of range (10257 0 R); xref size 974\n",
      "mupdf: object out of range (10257 0 R); xref size 974\n",
      "mupdf: object out of range (10257 0 R); xref size 974\n",
      "mupdf: object out of range (10257 0 R); xref size 974\n",
      "mupdf: object out of range (10257 0 R); xref size 974\n",
      "mupdf: object out of range (10257 0 R); xref size 974\n",
      "mupdf: object out of range (10257 0 R); xref size 974\n",
      "mupdf: object out of range (10257 0 R); xref size 974\n",
      "mupdf: object out of range (10257 0 R); xref size 974\n",
      "mupdf: object out of range (10257 0 R); xref size 974\n",
      "mupdf: object out of range (10257 0 R); xref size 974\n",
      "mupdf: object out of range (10257 0 R); xref size 974\n",
      "mupdf: object out of range (10257 0 R); xref size 974\n",
      "mupdf: object out of range (10257 0 R); xref size 974\n",
      "mupdf: object out of range (10257 0 R); xref size 974\n",
      "mupdf: object out of range (10257 0 R); xref size 974\n",
      "mupdf: object is not a stream\n",
      "mupdf: object out of range (10258 0 R); xref size 974\n",
      "mupdf: object out of range (10258 0 R); xref size 974\n",
      "mupdf: object out of range (10258 0 R); xref size 974\n",
      "mupdf: object out of range (10258 0 R); xref size 974\n",
      "mupdf: object out of range (10258 0 R); xref size 974\n",
      "mupdf: object out of range (10258 0 R); xref size 974\n",
      "mupdf: object out of range (10258 0 R); xref size 974\n",
      "mupdf: object out of range (10258 0 R); xref size 974\n",
      "mupdf: object out of range (10258 0 R); xref size 974\n",
      "mupdf: object out of range (10258 0 R); xref size 974\n",
      "mupdf: object out of range (10258 0 R); xref size 974\n",
      "mupdf: object out of range (10258 0 R); xref size 974\n",
      "mupdf: object out of range (10258 0 R); xref size 974\n",
      "mupdf: object out of range (10258 0 R); xref size 974\n",
      "mupdf: object out of range (10258 0 R); xref size 974\n",
      "mupdf: object out of range (10258 0 R); xref size 974\n",
      "mupdf: object out of range (10258 0 R); xref size 974\n",
      "mupdf: object out of range (10258 0 R); xref size 974\n",
      "mupdf: object out of range (10258 0 R); xref size 974\n",
      "mupdf: object out of range (10258 0 R); xref size 974\n",
      "mupdf: object out of range (10258 0 R); xref size 974\n",
      "mupdf: object out of range (10258 0 R); xref size 974\n",
      "mupdf: object out of range (10258 0 R); xref size 974\n",
      "mupdf: object out of range (10258 0 R); xref size 974\n",
      "mupdf: object out of range (10258 0 R); xref size 974\n",
      "mupdf: object out of range (10258 0 R); xref size 974\n",
      "mupdf: object out of range (10258 0 R); xref size 974\n",
      "mupdf: object out of range (10258 0 R); xref size 974\n",
      "mupdf: object out of range (10258 0 R); xref size 974\n",
      "mupdf: object out of range (10258 0 R); xref size 974\n",
      "mupdf: object out of range (10258 0 R); xref size 974\n",
      "mupdf: object out of range (10258 0 R); xref size 974\n",
      "mupdf: object out of range (10258 0 R); xref size 974\n",
      "mupdf: object out of range (10258 0 R); xref size 974\n",
      "mupdf: object out of range (10258 0 R); xref size 974\n",
      "mupdf: object out of range (10258 0 R); xref size 974\n",
      "mupdf: object out of range (10258 0 R); xref size 974\n",
      "mupdf: object out of range (10258 0 R); xref size 974\n",
      "mupdf: object out of range (10258 0 R); xref size 974\n",
      "mupdf: object out of range (10258 0 R); xref size 974\n",
      "mupdf: object out of range (10258 0 R); xref size 974\n",
      "mupdf: object out of range (10258 0 R); xref size 974\n",
      "mupdf: object out of range (10258 0 R); xref size 974\n",
      "mupdf: object out of range (10258 0 R); xref size 974\n",
      "mupdf: object out of range (10258 0 R); xref size 974\n",
      "mupdf: object out of range (10258 0 R); xref size 974\n",
      "mupdf: object out of range (10258 0 R); xref size 974\n",
      "mupdf: object out of range (10258 0 R); xref size 974\n",
      "mupdf: object out of range (10258 0 R); xref size 974\n",
      "mupdf: object out of range (10258 0 R); xref size 974\n",
      "mupdf: object out of range (10258 0 R); xref size 974\n",
      "mupdf: object out of range (10258 0 R); xref size 974\n",
      "mupdf: object out of range (10258 0 R); xref size 974\n",
      "mupdf: object out of range (10258 0 R); xref size 974\n",
      "mupdf: object out of range (10258 0 R); xref size 974\n",
      "mupdf: object out of range (10258 0 R); xref size 974\n",
      "mupdf: object out of range (10258 0 R); xref size 974\n",
      "mupdf: object out of range (10258 0 R); xref size 974\n",
      "mupdf: object out of range (10258 0 R); xref size 974\n",
      "mupdf: object out of range (10258 0 R); xref size 974\n",
      "mupdf: object out of range (10258 0 R); xref size 974\n",
      "mupdf: object out of range (10258 0 R); xref size 974\n",
      "mupdf: object out of range (10258 0 R); xref size 974\n",
      "mupdf: object out of range (10258 0 R); xref size 974\n",
      "mupdf: object out of range (10258 0 R); xref size 974\n",
      "mupdf: object out of range (10258 0 R); xref size 974\n",
      "mupdf: object out of range (10258 0 R); xref size 974\n",
      "mupdf: object out of range (10258 0 R); xref size 974\n",
      "mupdf: object out of range (10258 0 R); xref size 974\n",
      "mupdf: object out of range (10258 0 R); xref size 974\n",
      "mupdf: object out of range (10258 0 R); xref size 974\n",
      "mupdf: object out of range (10258 0 R); xref size 974\n",
      "mupdf: object out of range (10258 0 R); xref size 974\n",
      "mupdf: object out of range (10258 0 R); xref size 974\n",
      "mupdf: object out of range (10258 0 R); xref size 974\n",
      "mupdf: object out of range (10258 0 R); xref size 974\n",
      "mupdf: object out of range (10258 0 R); xref size 974\n",
      "mupdf: object out of range (10258 0 R); xref size 974\n",
      "mupdf: object out of range (10258 0 R); xref size 974\n",
      "mupdf: object out of range (10258 0 R); xref size 974\n",
      "mupdf: object out of range (10258 0 R); xref size 974\n",
      "mupdf: object out of range (10258 0 R); xref size 974\n",
      "mupdf: object out of range (10258 0 R); xref size 974\n",
      "mupdf: object out of range (10258 0 R); xref size 974\n",
      "mupdf: object out of range (10258 0 R); xref size 974\n",
      "mupdf: object out of range (10258 0 R); xref size 974\n",
      "mupdf: object out of range (10258 0 R); xref size 974\n",
      "mupdf: object out of range (10258 0 R); xref size 974\n",
      "mupdf: object out of range (10258 0 R); xref size 974\n",
      "mupdf: object out of range (10258 0 R); xref size 974\n",
      "mupdf: object out of range (10258 0 R); xref size 974\n",
      "mupdf: object out of range (10258 0 R); xref size 974\n",
      "mupdf: object out of range (10258 0 R); xref size 974\n",
      "mupdf: object out of range (10258 0 R); xref size 974\n",
      "mupdf: object out of range (10258 0 R); xref size 974\n",
      "mupdf: object out of range (10258 0 R); xref size 974\n",
      "mupdf: object out of range (10258 0 R); xref size 974\n",
      "mupdf: object out of range (10258 0 R); xref size 974\n",
      "mupdf: object out of range (10258 0 R); xref size 974\n",
      "mupdf: object out of range (10258 0 R); xref size 974\n",
      "mupdf: object out of range (10258 0 R); xref size 974\n",
      "mupdf: object out of range (10258 0 R); xref size 974\n",
      "mupdf: object out of range (10258 0 R); xref size 974\n",
      "mupdf: object out of range (10258 0 R); xref size 974\n",
      "mupdf: object out of range (10258 0 R); xref size 974\n",
      "mupdf: object out of range (10258 0 R); xref size 974\n",
      "mupdf: object out of range (10258 0 R); xref size 974\n",
      "mupdf: object out of range (10258 0 R); xref size 974\n",
      "mupdf: object out of range (10258 0 R); xref size 974\n",
      "mupdf: object out of range (10258 0 R); xref size 974\n",
      "mupdf: object out of range (10258 0 R); xref size 974\n",
      "mupdf: object out of range (10258 0 R); xref size 974\n",
      "mupdf: object out of range (10258 0 R); xref size 974\n",
      "mupdf: object out of range (10258 0 R); xref size 974\n",
      "mupdf: object out of range (10258 0 R); xref size 974\n",
      "mupdf: object out of range (10258 0 R); xref size 974\n",
      "mupdf: object out of range (10258 0 R); xref size 974\n",
      "mupdf: object out of range (10258 0 R); xref size 974\n",
      "mupdf: object out of range (10258 0 R); xref size 974\n",
      "mupdf: object out of range (10258 0 R); xref size 974\n",
      "mupdf: object out of range (10258 0 R); xref size 974\n",
      "mupdf: object out of range (10258 0 R); xref size 974\n",
      "mupdf: object out of range (10258 0 R); xref size 974\n",
      "mupdf: object out of range (10258 0 R); xref size 974\n",
      "mupdf: object out of range (10258 0 R); xref size 974\n",
      "mupdf: object out of range (10258 0 R); xref size 974\n",
      "mupdf: object out of range (10258 0 R); xref size 974\n",
      "mupdf: object out of range (10258 0 R); xref size 974\n",
      "mupdf: object out of range (10258 0 R); xref size 974\n",
      "mupdf: object out of range (10258 0 R); xref size 974\n",
      "mupdf: object out of range (10258 0 R); xref size 974\n",
      "mupdf: object out of range (10258 0 R); xref size 974\n",
      "mupdf: object out of range (10258 0 R); xref size 974\n",
      "mupdf: object out of range (10258 0 R); xref size 974\n",
      "mupdf: object out of range (10258 0 R); xref size 974\n",
      "mupdf: object out of range (10258 0 R); xref size 974\n",
      "mupdf: object out of range (10258 0 R); xref size 974\n",
      "mupdf: object out of range (10258 0 R); xref size 974\n",
      "mupdf: object out of range (10258 0 R); xref size 974\n",
      "mupdf: object out of range (10258 0 R); xref size 974\n",
      "mupdf: object out of range (10258 0 R); xref size 974\n",
      "mupdf: object out of range (10258 0 R); xref size 974\n",
      "mupdf: object out of range (10258 0 R); xref size 974\n",
      "mupdf: object out of range (10258 0 R); xref size 974\n",
      "mupdf: object out of range (10258 0 R); xref size 974\n",
      "mupdf: object out of range (10258 0 R); xref size 974\n",
      "mupdf: object out of range (10258 0 R); xref size 974\n",
      "mupdf: object out of range (10258 0 R); xref size 974\n",
      "mupdf: object out of range (10258 0 R); xref size 974\n",
      "mupdf: object out of range (10258 0 R); xref size 974\n",
      "mupdf: object out of range (10258 0 R); xref size 974\n",
      "mupdf: object out of range (10258 0 R); xref size 974\n",
      "mupdf: object out of range (10258 0 R); xref size 974\n",
      "mupdf: object out of range (10258 0 R); xref size 974\n",
      "mupdf: object out of range (10258 0 R); xref size 974\n",
      "mupdf: object out of range (10258 0 R); xref size 974\n",
      "mupdf: object out of range (10258 0 R); xref size 974\n",
      "mupdf: object out of range (10258 0 R); xref size 974\n",
      "mupdf: object out of range (10258 0 R); xref size 974\n",
      "mupdf: object out of range (10258 0 R); xref size 974\n",
      "mupdf: object out of range (10258 0 R); xref size 974\n",
      "mupdf: object out of range (10258 0 R); xref size 974\n",
      "mupdf: object out of range (10258 0 R); xref size 974\n",
      "mupdf: object out of range (10258 0 R); xref size 974\n",
      "mupdf: object out of range (10258 0 R); xref size 974\n",
      "mupdf: object out of range (10258 0 R); xref size 974\n",
      "mupdf: object out of range (10258 0 R); xref size 974\n",
      "mupdf: object out of range (10258 0 R); xref size 974\n",
      "mupdf: object out of range (10258 0 R); xref size 974\n",
      "mupdf: object out of range (10258 0 R); xref size 974\n",
      "mupdf: expected object number\n",
      "mupdf: cannot find startxref\n"
     ]
    }
   ],
   "source": [
    "def has_embedded_text(doc: fitz.Document) -> bool:\n",
    "    for page in doc:\n",
    "        if page.getText():\n",
    "            return True\n",
    "        \n",
    "    return False\n",
    "\n",
    "embedded_text = dict()\n",
    "\n",
    "for fname in tqdm(files_with_ext[\".pdf\"] + files_with_ext[\".PDF\"]):\n",
    "    with fitz.open(fname) as doc:\n",
    "        embedded_text[fname] = has_embedded_text(doc)\n",
    "            "
   ]
  },
  {
   "cell_type": "code",
   "execution_count": 46,
   "id": "0d6f7f58-f4f2-4337-874d-63cfdbcdc6d2",
   "metadata": {},
   "outputs": [
    {
     "data": {
      "text/html": [
       "<div>\n",
       "<style scoped>\n",
       "    .dataframe tbody tr th:only-of-type {\n",
       "        vertical-align: middle;\n",
       "    }\n",
       "\n",
       "    .dataframe tbody tr th {\n",
       "        vertical-align: top;\n",
       "    }\n",
       "\n",
       "    .dataframe thead th {\n",
       "        text-align: right;\n",
       "    }\n",
       "</style>\n",
       "<table border=\"1\" class=\"dataframe\">\n",
       "  <thead>\n",
       "    <tr style=\"text-align: right;\">\n",
       "      <th></th>\n",
       "      <th>count</th>\n",
       "      <th>percent</th>\n",
       "    </tr>\n",
       "    <tr>\n",
       "      <th>has_embedded_text</th>\n",
       "      <th></th>\n",
       "      <th></th>\n",
       "    </tr>\n",
       "  </thead>\n",
       "  <tbody>\n",
       "    <tr>\n",
       "      <th>False</th>\n",
       "      <td>152</td>\n",
       "      <td>5.382436</td>\n",
       "    </tr>\n",
       "    <tr>\n",
       "      <th>True</th>\n",
       "      <td>2672</td>\n",
       "      <td>94.617564</td>\n",
       "    </tr>\n",
       "  </tbody>\n",
       "</table>\n",
       "</div>"
      ],
      "text/plain": [
       "                   count    percent\n",
       "has_embedded_text                  \n",
       "False                152   5.382436\n",
       "True                2672  94.617564"
      ]
     },
     "execution_count": 46,
     "metadata": {},
     "output_type": "execute_result"
    }
   ],
   "source": [
    "emb_text_df = pd.DataFrame.from_dict(embedded_text, orient=\"index\").rename(columns={0: \"has_embedded_text\"})\n",
    "emb_text_count = emb_text_df.reset_index().groupby(\"has_embedded_text\").count().rename(columns={\"index\": \"count\"})\n",
    "emb_text_count['percent'] = emb_text_count['count'] / emb_text_count['count'].sum() * 100\n",
    "\n",
    "emb_text_count"
   ]
  },
  {
   "cell_type": "code",
   "execution_count": 48,
   "id": "1d7f4a85-e74d-4f28-8db3-08133e742ea4",
   "metadata": {},
   "outputs": [
    {
     "data": {
      "text/html": [
       "<div>\n",
       "<style scoped>\n",
       "    .dataframe tbody tr th:only-of-type {\n",
       "        vertical-align: middle;\n",
       "    }\n",
       "\n",
       "    .dataframe tbody tr th {\n",
       "        vertical-align: top;\n",
       "    }\n",
       "\n",
       "    .dataframe thead th {\n",
       "        text-align: right;\n",
       "    }\n",
       "</style>\n",
       "<table border=\"1\" class=\"dataframe\">\n",
       "  <thead>\n",
       "    <tr style=\"text-align: right;\">\n",
       "      <th></th>\n",
       "      <th>has_embedded_text</th>\n",
       "    </tr>\n",
       "  </thead>\n",
       "  <tbody>\n",
       "    <tr>\n",
       "      <th>/Users/kalyan/Documents/CPR/policy-search/data/corpus/content/cpd-4415-c46887610b404c2f8bb3fd3a4d075034.pdf</th>\n",
       "      <td>True</td>\n",
       "    </tr>\n",
       "    <tr>\n",
       "      <th>/Users/kalyan/Documents/CPR/policy-search/data/corpus/content/cclw-8699-1a7ed1aa1a2943578452f21f6ca394fb.pdf</th>\n",
       "      <td>True</td>\n",
       "    </tr>\n",
       "    <tr>\n",
       "      <th>/Users/kalyan/Documents/CPR/policy-search/data/corpus/content/cclw-8536-824a447245404ec1ba6104a707f14a1b.pdf</th>\n",
       "      <td>True</td>\n",
       "    </tr>\n",
       "    <tr>\n",
       "      <th>/Users/kalyan/Documents/CPR/policy-search/data/corpus/content/cclw-9496-3f0dfa47ac5f4a3aa5d03a624c43799d.pdf</th>\n",
       "      <td>True</td>\n",
       "    </tr>\n",
       "    <tr>\n",
       "      <th>/Users/kalyan/Documents/CPR/policy-search/data/corpus/content/cclw-1699-2b527b1461444e4f93470620027c94b0.pdf</th>\n",
       "      <td>True</td>\n",
       "    </tr>\n",
       "    <tr>\n",
       "      <th>/Users/kalyan/Documents/CPR/policy-search/data/corpus/content/cclw-1497-cb3e1724ee7947d2a29eed3e4b19d8a1.pdf</th>\n",
       "      <td>True</td>\n",
       "    </tr>\n",
       "    <tr>\n",
       "      <th>/Users/kalyan/Documents/CPR/policy-search/data/corpus/content/cclw-9017-78b643f969c240f39a8bde2a13c3dd8f.pdf</th>\n",
       "      <td>True</td>\n",
       "    </tr>\n",
       "    <tr>\n",
       "      <th>/Users/kalyan/Documents/CPR/policy-search/data/corpus/content/cclw-8553-c8880adffce24819b52610891c2fbdd7.pdf</th>\n",
       "      <td>True</td>\n",
       "    </tr>\n",
       "    <tr>\n",
       "      <th>/Users/kalyan/Documents/CPR/policy-search/data/corpus/content/cclw-1372-6c29db31dc974b2792f00a1bf37fddca.pdf</th>\n",
       "      <td>True</td>\n",
       "    </tr>\n",
       "    <tr>\n",
       "      <th>/Users/kalyan/Documents/CPR/policy-search/data/corpus/content/cclw-8813-f06cb543008047c79b8b33a923814fb1.pdf</th>\n",
       "      <td>True</td>\n",
       "    </tr>\n",
       "  </tbody>\n",
       "</table>\n",
       "</div>"
      ],
      "text/plain": [
       "                                                    has_embedded_text\n",
       "/Users/kalyan/Documents/CPR/policy-search/data/...               True\n",
       "/Users/kalyan/Documents/CPR/policy-search/data/...               True\n",
       "/Users/kalyan/Documents/CPR/policy-search/data/...               True\n",
       "/Users/kalyan/Documents/CPR/policy-search/data/...               True\n",
       "/Users/kalyan/Documents/CPR/policy-search/data/...               True\n",
       "/Users/kalyan/Documents/CPR/policy-search/data/...               True\n",
       "/Users/kalyan/Documents/CPR/policy-search/data/...               True\n",
       "/Users/kalyan/Documents/CPR/policy-search/data/...               True\n",
       "/Users/kalyan/Documents/CPR/policy-search/data/...               True\n",
       "/Users/kalyan/Documents/CPR/policy-search/data/...               True"
      ]
     },
     "execution_count": 48,
     "metadata": {},
     "output_type": "execute_result"
    }
   ],
   "source": [
    "emb_text_df[emb_text_df['has_embedded_text'] == True].sample(10)"
   ]
  },
  {
   "cell_type": "markdown",
   "id": "2ce7c698-c550-4325-9007-1b11c52b5f07",
   "metadata": {},
   "source": [
    "## Presence of bookmarks and contents page metadata"
   ]
  },
  {
   "cell_type": "code",
   "execution_count": 57,
   "id": "2a0a4f47-364c-436f-917d-b666753574ec",
   "metadata": {
    "collapsed": true,
    "jupyter": {
     "outputs_hidden": true
    },
    "tags": []
   },
   "outputs": [
    {
     "data": {
      "application/vnd.jupyter.widget-view+json": {
       "model_id": "39b213681e794f2ba890a9bfc26b9358",
       "version_major": 2,
       "version_minor": 0
      },
      "text/plain": [
       "  0%|          | 0/2824 [00:00<?, ?it/s]"
      ]
     },
     "metadata": {},
     "output_type": "display_data"
    },
    {
     "name": "stderr",
     "output_type": "stream",
     "text": [
      "mupdf: expected object number\n",
      "mupdf: expected object number\n",
      "mupdf: expected generation number (0 ? obj)\n",
      "mupdf: expected object number\n",
      "mupdf: expected object number\n",
      "mupdf: expected object number\n",
      "mupdf: expected object number\n",
      "mupdf: cannot find startxref\n",
      "mupdf: expected object number\n",
      "mupdf: expected object number\n",
      "mupdf: expected object number\n",
      "mupdf: cannot find startxref\n",
      "mupdf: invalid key in dict\n",
      "mupdf: expected object number\n",
      "mupdf: cannot find startxref\n",
      "mupdf: expected object number\n",
      "mupdf: expected object number\n",
      "mupdf: cannot find startxref\n",
      "mupdf: expected object number\n",
      "mupdf: expected object number\n",
      "mupdf: cannot find startxref\n",
      "mupdf: expected object number\n",
      "mupdf: expected object number\n",
      "mupdf: expected object number\n",
      "mupdf: expected object number\n",
      "mupdf: cannot find startxref\n",
      "mupdf: cannot find startxref\n",
      "mupdf: expected object number\n",
      "mupdf: expected object number\n",
      "mupdf: xref subsection length missing\n",
      "mupdf: cannot find startxref\n",
      "mupdf: expected object number\n",
      "mupdf: expected object number\n",
      "mupdf: cannot find startxref\n",
      "mupdf: expected object number\n",
      "mupdf: expected object number\n",
      "mupdf: cannot find startxref\n",
      "mupdf: expected object number\n",
      "mupdf: cannot find startxref\n"
     ]
    }
   ],
   "source": [
    "contents_page = dict()\n",
    "has_contents_page = dict()\n",
    "\n",
    "for fname in tqdm(files_with_ext[\".pdf\"] + files_with_ext[\".PDF\"]):\n",
    "    with fitz.open(fname) as doc:\n",
    "        toc = doc.get_toc(simple=False)\n",
    "        contents_page[fname] = toc\n",
    "        has_contents_page[fname] = bool(toc) "
   ]
  },
  {
   "cell_type": "code",
   "execution_count": 60,
   "id": "01edc243-25eb-4744-8d0d-1ddbf7c0a6bc",
   "metadata": {},
   "outputs": [
    {
     "data": {
      "text/html": [
       "<div>\n",
       "<style scoped>\n",
       "    .dataframe tbody tr th:only-of-type {\n",
       "        vertical-align: middle;\n",
       "    }\n",
       "\n",
       "    .dataframe tbody tr th {\n",
       "        vertical-align: top;\n",
       "    }\n",
       "\n",
       "    .dataframe thead th {\n",
       "        text-align: right;\n",
       "    }\n",
       "</style>\n",
       "<table border=\"1\" class=\"dataframe\">\n",
       "  <thead>\n",
       "    <tr style=\"text-align: right;\">\n",
       "      <th></th>\n",
       "      <th>count</th>\n",
       "      <th>percent</th>\n",
       "    </tr>\n",
       "    <tr>\n",
       "      <th>has_contents_page</th>\n",
       "      <th></th>\n",
       "      <th></th>\n",
       "    </tr>\n",
       "  </thead>\n",
       "  <tbody>\n",
       "    <tr>\n",
       "      <th>False</th>\n",
       "      <td>2418</td>\n",
       "      <td>85.623229</td>\n",
       "    </tr>\n",
       "    <tr>\n",
       "      <th>True</th>\n",
       "      <td>406</td>\n",
       "      <td>14.376771</td>\n",
       "    </tr>\n",
       "  </tbody>\n",
       "</table>\n",
       "</div>"
      ],
      "text/plain": [
       "                   count    percent\n",
       "has_contents_page                  \n",
       "False               2418  85.623229\n",
       "True                 406  14.376771"
      ]
     },
     "execution_count": 60,
     "metadata": {},
     "output_type": "execute_result"
    }
   ],
   "source": [
    "contents_page_df = pd.DataFrame.from_dict(has_contents_page, orient=\"index\").rename(columns={0: \"has_contents_page\"})\n",
    "contents_page_count = contents_page_df.reset_index().groupby(\"has_contents_page\").count().rename(columns={\"index\": \"count\"})\n",
    "contents_page_count['percent'] = contents_page_count['count'] / contents_page_count['count'].sum() * 100\n",
    "\n",
    "contents_page_count"
   ]
  },
  {
   "cell_type": "code",
   "execution_count": 72,
   "id": "5dcc042b-31ad-4f22-b75a-a5dd1b71f581",
   "metadata": {},
   "outputs": [
    {
     "data": {
      "text/plain": [
       "{'kind': 1,\n",
       " 'xref': 21,\n",
       " 'page': 0,\n",
       " 'to': Point(61.0, 71.0),\n",
       " 'zoom': 0.0,\n",
       " 'collapse': True}"
      ]
     },
     "execution_count": 72,
     "metadata": {},
     "output_type": "execute_result"
    }
   ],
   "source": [
    "contents_page[\"/Users/kalyan/Documents/CPR/policy-search/data/corpus/content/cclw-9112-5a84badb44ce408a9bbef6703e868274.pdf\"][0][-1]"
   ]
  },
  {
   "cell_type": "code",
   "execution_count": 81,
   "id": "568dc9a2-4b2e-4643-893f-b5c8420bf9ac",
   "metadata": {},
   "outputs": [],
   "source": [
    "def contents_uses_coords(contents):\n",
    "    \"\"\"\n",
    "    Determine whether contents page uses coordinates (points to a place within a page), or just points to a page.\n",
    "    Bookmarks that point to a coordinate in a page could be a useful source of labels for section headings.\n",
    "    \"\"\"\n",
    "    \n",
    "    for bookmark in contents:\n",
    "        if bookmark[-1].get(\"to\"):\n",
    "            if bookmark[-1].get(\"to\").y != 0: \n",
    "                return True \n",
    "        elif bookmark[-1].get(\"kind\") == 2:\n",
    "            # Means the link points to a named position in the document.\n",
    "            # https://pymupdf.readthedocs.io/en/latest/vars.html#linkdest-kinds\n",
    "            return True\n",
    "        \n",
    "    return False\n"
   ]
  },
  {
   "cell_type": "code",
   "execution_count": 86,
   "id": "99c311c9-131f-4b84-9c7d-e142b2be61af",
   "metadata": {},
   "outputs": [
    {
     "data": {
      "application/vnd.jupyter.widget-view+json": {
       "model_id": "7308efe380bd4e2c9be20015f9526cd3",
       "version_major": 2,
       "version_minor": 0
      },
      "text/plain": [
       "  0%|          | 0/2824 [00:00<?, ?it/s]"
      ]
     },
     "metadata": {},
     "output_type": "display_data"
    }
   ],
   "source": [
    "contents_page_stats = []\n",
    "\n",
    "for filename, contents in tqdm(contents_page.items()):\n",
    "    if contents:\n",
    "        try:\n",
    "            contents_page_stats.append({\n",
    "                \"filename\": filename,\n",
    "                \"contents_length\": len(contents),\n",
    "                \"contents_uses_coords\": contents_uses_coords(contents),\n",
    "            })\n",
    "        except:\n",
    "            print(f\"{filename} failed\")\n"
   ]
  },
  {
   "cell_type": "code",
   "execution_count": 100,
   "id": "0beb67d9-be55-4f97-bd14-b79ed955fef3",
   "metadata": {},
   "outputs": [
    {
     "data": {
      "image/png": "[encoded data removed]",
      "text/plain": [
       "<Figure size 432x288 with 1 Axes>"
      ]
     },
     "metadata": {
      "needs_background": "light"
     },
     "output_type": "display_data"
    }
   ],
   "source": [
    "sns.boxplot(\n",
    "    x=pd.DataFrame(contents_page_stats)[\"contents_length\"], \n",
    "    showfliers=False, \n",
    "    showmeans=True).set_title(\"Lengths of bookmarks/contents pages in 250 documents, excluding outliers\");\n"
   ]
  },
  {
   "cell_type": "code",
   "execution_count": 123,
   "id": "54a5263f-0ab9-4192-9e27-6884d024fcdf",
   "metadata": {},
   "outputs": [
    {
     "data": {
      "text/plain": [
       "Text(0.5, 1.0, \"Distribution of 'contents page length'/'page count'\")"
      ]
     },
     "execution_count": 123,
     "metadata": {},
     "output_type": "execute_result"
    },
    {
     "data": {
      "image/png": "[encoded data removed]",
      "text/plain": [
       "<Figure size 432x288 with 1 Axes>"
      ]
     },
     "metadata": {
      "needs_background": "light"
     },
     "output_type": "display_data"
    }
   ],
   "source": [
    "contents_page_df = pd.DataFrame(contents_page_stats).set_index(\"filename\")\n",
    "contents_page_df = pd.concat([contents_page_df, page_count_df], axis=1, ignore_index=False).rename(columns={\"count\": \"page_count\"}).dropna(subset=[\"contents_length\"])\n",
    "\n",
    "contents_page_df[\"contents_length/page_count\"] = contents_page_df[\"contents_length\"] / contents_page_df[\"page_count\"]\n",
    "\n",
    "sns.histplot(x=contents_page_df[\"contents_length/page_count\"], binwidth=2).set_title(\"Distribution of 'contents page length'/'page count'\")"
   ]
  },
  {
   "cell_type": "code",
   "execution_count": null,
   "id": "2677f506-f4df-4a07-afa5-fb6f096337e8",
   "metadata": {},
   "outputs": [],
   "source": []
  }
 ],
 "metadata": {
  "kernelspec": {
   "display_name": "Python 3 (ipykernel)",
   "language": "python",
   "name": "python3"
  },
  "language_info": {
   "codemirror_mode": {
    "name": "ipython",
    "version": 3
   },
   "file_extension": ".py",
   "mimetype": "text/x-python",
   "name": "python",
   "nbconvert_exporter": "python",
   "pygments_lexer": "ipython3",
   "version": "3.8.7"
  }
 },
 "nbformat": 4,
 "nbformat_minor": 5
}
