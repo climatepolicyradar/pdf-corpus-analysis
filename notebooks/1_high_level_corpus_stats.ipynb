{
 "cells": [
  {
   "cell_type": "markdown",
   "id": "a6933a8b-5d28-46aa-a8c6-87a9c09ebd18",
   "metadata": {},
   "source": [
    "# High-Level Corpus Stats"
   ]
  },
  {
   "cell_type": "code",
   "execution_count": 1,
   "id": "b2293a58-fb54-44b7-a149-292b4278c4fb",
   "metadata": {},
   "outputs": [
    {
     "data": {
      "text/plain": [
       "'/Users/kalyan/Documents/CPR/policy-search/data/corpus/content'"
      ]
     },
     "execution_count": 1,
     "metadata": {},
     "output_type": "execute_result"
    }
   ],
   "source": [
    "import os\n",
    "import glob\n",
    "\n",
    "from tqdm.auto import tqdm\n",
    "from dotenv import load_dotenv\n",
    "import PyPDF2\n",
    "import fitz\n",
    "import pandas as pd\n",
    "import seaborn as sns\n",
    "\n",
    "load_dotenv()\n",
    "CORPUS_PATH = os.getenv(\"CORPUS_PATH\")\n",
    "\n",
    "CORPUS_PATH"
   ]
  },
  {
   "cell_type": "markdown",
   "id": "809abab4-d505-4ea0-b2eb-09a2c4a51998",
   "metadata": {},
   "source": [
    "## 1. File formats"
   ]
  },
  {
   "cell_type": "code",
   "execution_count": 2,
   "id": "91463a2d-bec9-495b-bdf2-ee1041953fdc",
   "metadata": {},
   "outputs": [
    {
     "name": "stdout",
     "output_type": "stream",
     "text": [
      "287 files with extension .html\n",
      "0 files with extension .HTML\n",
      "0 files with extension .htm\n",
      "0 files with extension .HTM\n",
      "2041 files with extension .pdf\n",
      "0 files with extension .PDF\n"
     ]
    }
   ],
   "source": [
    "possible_extensions = [\".html\", \".HTML\", \".htm\", \".HTM\", \".pdf\", \".PDF\",]\n",
    "filename_prefix = \"cclw\"\n",
    "\n",
    "files_with_ext = dict()\n",
    "\n",
    "for ext in possible_extensions:\n",
    "    files_with_ext[ext] = glob.glob(f\"{CORPUS_PATH}/{filename_prefix}*{ext}\")\n",
    "    print(f\"{len(files_with_ext[ext])} files with extension {ext}\")"
   ]
  },
  {
   "cell_type": "markdown",
   "id": "d3c6d4df-a064-4bd1-84d8-f5b8f1526d1b",
   "metadata": {},
   "source": [
    "## 2. PDF Analysis"
   ]
  },
  {
   "cell_type": "markdown",
   "id": "085758c7-dfb9-442d-a43f-4a9f97e1e8ef",
   "metadata": {},
   "source": [
    "### Number of pages per PDF"
   ]
  },
  {
   "cell_type": "code",
   "execution_count": 3,
   "id": "53dbc325-f37e-4b6a-8320-e423e3f6225e",
   "metadata": {},
   "outputs": [
    {
     "data": {
      "application/vnd.jupyter.widget-view+json": {
       "model_id": "9c52cde62c7c42cbb88023a9639043c7",
       "version_major": 2,
       "version_minor": 0
      },
      "text/plain": [
       "  0%|          | 0/2041 [00:00<?, ?it/s]"
      ]
     },
     "metadata": {},
     "output_type": "display_data"
    }
   ],
   "source": [
    "num_pages = dict()\n",
    "\n",
    "for fname in tqdm(files_with_ext[\".pdf\"] + files_with_ext[\".PDF\"]):\n",
    "    with open(fname, \"rb\") as f:\n",
    "        try:\n",
    "            num_pages[fname] = PyPDF2.PdfFileReader(f, strict=False).numPages\n",
    "        except Exception as e:\n",
    "            num_pages[fname] = f\"Exception: {e}\"\n",
    "    "
   ]
  },
  {
   "cell_type": "code",
   "execution_count": 4,
   "id": "a4e8c408-d16e-4abb-ba19-cd1923068164",
   "metadata": {},
   "outputs": [
    {
     "name": "stdout",
     "output_type": "stream",
     "text": [
      "TOTAL NO PAGES: 127620\n"
     ]
    },
    {
     "data": {
      "image/png": "[encoded data removed]",
      "text/plain": [
       "<Figure size 432x288 with 1 Axes>"
      ]
     },
     "metadata": {
      "needs_background": "light"
     },
     "output_type": "display_data"
    }
   ],
   "source": [
    "page_count_df = pd.DataFrame.from_dict({k:v for k,v in num_pages.items() if not str(v).startswith(\"Exception\")}, orient=\"index\").rename(columns={0: \"count\"})\n",
    "print(f\"TOTAL NO PAGES: {page_count_df['count'].sum()}\")\n",
    "sns.boxplot(x=page_count_df['count']).set_title(\"Distribution of page count per PDF document\");"
   ]
  },
  {
   "cell_type": "code",
   "execution_count": 5,
   "id": "4b38d949-d182-412d-bb8d-d3478e650b79",
   "metadata": {},
   "outputs": [
    {
     "data": {
      "text/plain": [
       "count    2001.000000\n",
       "mean       63.778111\n",
       "std        93.294897\n",
       "min         1.000000\n",
       "25%        10.000000\n",
       "50%        31.000000\n",
       "75%        78.000000\n",
       "max      1202.000000\n",
       "Name: count, dtype: float64"
      ]
     },
     "execution_count": 5,
     "metadata": {},
     "output_type": "execute_result"
    }
   ],
   "source": [
    "page_count_df['count'].describe()"
   ]
  },
  {
   "cell_type": "markdown",
   "id": "ab6e9752-a2b9-4cf9-b4f0-2218268d4f45",
   "metadata": {},
   "source": [
    "### Scanned vs Non-scanned\n",
    "\n",
    "Here we check to see whether there's text embedded in each PDF."
   ]
  },
  {
   "cell_type": "code",
   "execution_count": 6,
   "id": "21e05c28-76c0-468c-890b-0608e87bb010",
   "metadata": {
    "tags": []
   },
   "outputs": [
    {
     "data": {
      "application/vnd.jupyter.widget-view+json": {
       "model_id": "997223058bc046749a6c15d44c9919d1",
       "version_major": 2,
       "version_minor": 0
      },
      "text/plain": [
       "  0%|          | 0/2041 [00:00<?, ?it/s]"
      ]
     },
     "metadata": {},
     "output_type": "display_data"
    },
    {
     "name": "stderr",
     "output_type": "stream",
     "text": [
      "FitzDeprecation: 'getText' removed from class 'Page' after v1.19 - use 'get_text'. [__init__.py:175]\n",
      "mupdf: expected object number\n",
      "mupdf: expected object number\n",
      "mupdf: expected object number\n",
      "mupdf: No default Layer config\n",
      "mupdf: expected object number\n",
      "mupdf: expected object number\n",
      "mupdf: expected object number\n",
      "mupdf: expected object number\n",
      "mupdf: cmsOpenProfileFromMem failed\n",
      "mupdf: No default Layer config\n",
      "mupdf: expected object number\n",
      "mupdf: cmsOpenProfileFromMem failed\n",
      "mupdf: cmsOpenProfileFromMem failed\n",
      "mupdf: expected object number\n",
      "mupdf: expected object number\n",
      "mupdf: cannot find startxref\n",
      "mupdf: expected object number\n",
      "mupdf: expected object number\n",
      "mupdf: expected object number\n",
      "mupdf: expected object number\n",
      "mupdf: No default Layer config\n",
      "mupdf: No default Layer config\n",
      "mupdf: cannot find startxref\n",
      "mupdf: invalid page object\n",
      "mupdf: invalid page object\n",
      "mupdf: cannot find startxref\n",
      "mupdf: expected object number\n",
      "mupdf: expected object number\n",
      "mupdf: cmsOpenProfileFromMem failed\n",
      "mupdf: xref subsection length missing\n",
      "mupdf: cannot find startxref\n",
      "mupdf: expected object number\n",
      "mupdf: cannot create appearance stream for Movie annotations\n",
      "mupdf: cannot create appearance stream for Movie annotations\n",
      "mupdf: cannot create appearance stream for Movie annotations\n",
      "mupdf: cannot create appearance stream for Movie annotations\n",
      "mupdf: cannot create appearance stream for Movie annotations\n",
      "mupdf: cannot create appearance stream for Movie annotations\n",
      "mupdf: No default Layer config\n",
      "mupdf: expected object number\n",
      "mupdf: cannot find startxref\n",
      "mupdf: cmsOpenProfileFromMem failed\n",
      "mupdf: expected object number\n",
      "mupdf: expected object number\n",
      "mupdf: expected object number\n"
     ]
    }
   ],
   "source": [
    "def has_embedded_text(doc: fitz.Document) -> bool:\n",
    "    for page in doc:\n",
    "        if page.getText():\n",
    "            return True\n",
    "        \n",
    "    return False\n",
    "\n",
    "embedded_text = dict()\n",
    "\n",
    "for fname in tqdm(files_with_ext[\".pdf\"] + files_with_ext[\".PDF\"]):\n",
    "    with fitz.open(fname) as doc:\n",
    "        embedded_text[fname] = has_embedded_text(doc)\n",
    "            "
   ]
  },
  {
   "cell_type": "code",
   "execution_count": 7,
   "id": "0d6f7f58-f4f2-4337-874d-63cfdbcdc6d2",
   "metadata": {},
   "outputs": [
    {
     "data": {
      "text/html": [
       "<div>\n",
       "<style scoped>\n",
       "    .dataframe tbody tr th:only-of-type {\n",
       "        vertical-align: middle;\n",
       "    }\n",
       "\n",
       "    .dataframe tbody tr th {\n",
       "        vertical-align: top;\n",
       "    }\n",
       "\n",
       "    .dataframe thead th {\n",
       "        text-align: right;\n",
       "    }\n",
       "</style>\n",
       "<table border=\"1\" class=\"dataframe\">\n",
       "  <thead>\n",
       "    <tr style=\"text-align: right;\">\n",
       "      <th></th>\n",
       "      <th>count</th>\n",
       "      <th>percent</th>\n",
       "    </tr>\n",
       "    <tr>\n",
       "      <th>has_embedded_text</th>\n",
       "      <th></th>\n",
       "      <th></th>\n",
       "    </tr>\n",
       "  </thead>\n",
       "  <tbody>\n",
       "    <tr>\n",
       "      <th>False</th>\n",
       "      <td>126</td>\n",
       "      <td>6.173444</td>\n",
       "    </tr>\n",
       "    <tr>\n",
       "      <th>True</th>\n",
       "      <td>1915</td>\n",
       "      <td>93.826556</td>\n",
       "    </tr>\n",
       "  </tbody>\n",
       "</table>\n",
       "</div>"
      ],
      "text/plain": [
       "                   count    percent\n",
       "has_embedded_text                  \n",
       "False                126   6.173444\n",
       "True                1915  93.826556"
      ]
     },
     "execution_count": 7,
     "metadata": {},
     "output_type": "execute_result"
    }
   ],
   "source": [
    "emb_text_df = pd.DataFrame.from_dict(embedded_text, orient=\"index\").rename(columns={0: \"has_embedded_text\"})\n",
    "emb_text_count = emb_text_df.reset_index().groupby(\"has_embedded_text\").count().rename(columns={\"index\": \"count\"})\n",
    "emb_text_count['percent'] = emb_text_count['count'] / emb_text_count['count'].sum() * 100\n",
    "\n",
    "emb_text_count"
   ]
  },
  {
   "cell_type": "code",
   "execution_count": 8,
   "id": "1d7f4a85-e74d-4f28-8db3-08133e742ea4",
   "metadata": {},
   "outputs": [
    {
     "data": {
      "text/html": [
       "<div>\n",
       "<style scoped>\n",
       "    .dataframe tbody tr th:only-of-type {\n",
       "        vertical-align: middle;\n",
       "    }\n",
       "\n",
       "    .dataframe tbody tr th {\n",
       "        vertical-align: top;\n",
       "    }\n",
       "\n",
       "    .dataframe thead th {\n",
       "        text-align: right;\n",
       "    }\n",
       "</style>\n",
       "<table border=\"1\" class=\"dataframe\">\n",
       "  <thead>\n",
       "    <tr style=\"text-align: right;\">\n",
       "      <th></th>\n",
       "      <th>has_embedded_text</th>\n",
       "    </tr>\n",
       "  </thead>\n",
       "  <tbody>\n",
       "    <tr>\n",
       "      <th>/Users/kalyan/Documents/CPR/policy-search/data/corpus/content/cclw-1019-3e6405213c93458294cfe37425d3eb88.pdf</th>\n",
       "      <td>True</td>\n",
       "    </tr>\n",
       "    <tr>\n",
       "      <th>/Users/kalyan/Documents/CPR/policy-search/data/corpus/content/cclw-9653-a83d02d152d346fe99b11c62c9793e34.pdf</th>\n",
       "      <td>True</td>\n",
       "    </tr>\n",
       "    <tr>\n",
       "      <th>/Users/kalyan/Documents/CPR/policy-search/data/corpus/content/cclw-1284-2b433862b6844350b0e6bab6fd14bf27.pdf</th>\n",
       "      <td>True</td>\n",
       "    </tr>\n",
       "    <tr>\n",
       "      <th>/Users/kalyan/Documents/CPR/policy-search/data/corpus/content/cclw-1792-109d27bda1e845b49ee0bec95d040dbd.pdf</th>\n",
       "      <td>True</td>\n",
       "    </tr>\n",
       "    <tr>\n",
       "      <th>/Users/kalyan/Documents/CPR/policy-search/data/corpus/content/cclw-1268-0c1fc17e9579446bb38fe0b2874cc09f.pdf</th>\n",
       "      <td>True</td>\n",
       "    </tr>\n",
       "    <tr>\n",
       "      <th>/Users/kalyan/Documents/CPR/policy-search/data/corpus/content/cclw-4454-e10060532a9c4abcae4d6de005b3dd40.pdf</th>\n",
       "      <td>True</td>\n",
       "    </tr>\n",
       "    <tr>\n",
       "      <th>/Users/kalyan/Documents/CPR/policy-search/data/corpus/content/cclw-1622-f4baed09f75a4aba87fb5d9c6800545f.pdf</th>\n",
       "      <td>True</td>\n",
       "    </tr>\n",
       "    <tr>\n",
       "      <th>/Users/kalyan/Documents/CPR/policy-search/data/corpus/content/cclw-10052-6995716bec1e47cebd0cc3bb756635f8.pdf</th>\n",
       "      <td>True</td>\n",
       "    </tr>\n",
       "    <tr>\n",
       "      <th>/Users/kalyan/Documents/CPR/policy-search/data/corpus/content/cclw-1713-951884784f55428181a71e0740cc8106.pdf</th>\n",
       "      <td>True</td>\n",
       "    </tr>\n",
       "    <tr>\n",
       "      <th>/Users/kalyan/Documents/CPR/policy-search/data/corpus/content/cclw-9589-47ac532df11d4971b4de39ef2d66a09d.pdf</th>\n",
       "      <td>True</td>\n",
       "    </tr>\n",
       "  </tbody>\n",
       "</table>\n",
       "</div>"
      ],
      "text/plain": [
       "                                                    has_embedded_text\n",
       "/Users/kalyan/Documents/CPR/policy-search/data/...               True\n",
       "/Users/kalyan/Documents/CPR/policy-search/data/...               True\n",
       "/Users/kalyan/Documents/CPR/policy-search/data/...               True\n",
       "/Users/kalyan/Documents/CPR/policy-search/data/...               True\n",
       "/Users/kalyan/Documents/CPR/policy-search/data/...               True\n",
       "/Users/kalyan/Documents/CPR/policy-search/data/...               True\n",
       "/Users/kalyan/Documents/CPR/policy-search/data/...               True\n",
       "/Users/kalyan/Documents/CPR/policy-search/data/...               True\n",
       "/Users/kalyan/Documents/CPR/policy-search/data/...               True\n",
       "/Users/kalyan/Documents/CPR/policy-search/data/...               True"
      ]
     },
     "execution_count": 8,
     "metadata": {},
     "output_type": "execute_result"
    }
   ],
   "source": [
    "emb_text_df[emb_text_df['has_embedded_text'] == True].sample(10)"
   ]
  },
  {
   "cell_type": "markdown",
   "id": "2ce7c698-c550-4325-9007-1b11c52b5f07",
   "metadata": {},
   "source": [
    "## Presence of bookmarks and contents page metadata"
   ]
  },
  {
   "cell_type": "code",
   "execution_count": 9,
   "id": "2a0a4f47-364c-436f-917d-b666753574ec",
   "metadata": {
    "tags": []
   },
   "outputs": [
    {
     "data": {
      "application/vnd.jupyter.widget-view+json": {
       "model_id": "0d3624a64ead43ca9878849acecd1d18",
       "version_major": 2,
       "version_minor": 0
      },
      "text/plain": [
       "  0%|          | 0/2041 [00:00<?, ?it/s]"
      ]
     },
     "metadata": {},
     "output_type": "display_data"
    },
    {
     "name": "stderr",
     "output_type": "stream",
     "text": [
      "mupdf: expected object number\n",
      "mupdf: expected object number\n",
      "mupdf: expected object number\n",
      "mupdf: expected object number\n",
      "mupdf: expected object number\n",
      "mupdf: expected object number\n",
      "mupdf: expected object number\n",
      "mupdf: expected object number\n",
      "mupdf: expected object number\n",
      "mupdf: expected object number\n",
      "mupdf: cannot find startxref\n",
      "mupdf: expected object number\n",
      "mupdf: expected object number\n",
      "mupdf: expected object number\n",
      "mupdf: expected object number\n",
      "mupdf: cannot find startxref\n",
      "mupdf: cannot find startxref\n",
      "mupdf: expected object number\n",
      "mupdf: expected object number\n",
      "mupdf: xref subsection length missing\n",
      "mupdf: cannot find startxref\n",
      "mupdf: expected object number\n",
      "mupdf: expected object number\n",
      "mupdf: cannot find startxref\n",
      "mupdf: expected object number\n",
      "mupdf: expected object number\n",
      "mupdf: expected object number\n"
     ]
    }
   ],
   "source": [
    "contents_page = dict()\n",
    "has_contents_page = dict()\n",
    "\n",
    "for fname in tqdm(files_with_ext[\".pdf\"] + files_with_ext[\".PDF\"]):\n",
    "    with fitz.open(fname) as doc:\n",
    "        toc = doc.get_toc(simple=False)\n",
    "        contents_page[fname] = toc\n",
    "        has_contents_page[fname] = bool(toc) "
   ]
  },
  {
   "cell_type": "code",
   "execution_count": 10,
   "id": "01edc243-25eb-4744-8d0d-1ddbf7c0a6bc",
   "metadata": {},
   "outputs": [
    {
     "data": {
      "text/html": [
       "<div>\n",
       "<style scoped>\n",
       "    .dataframe tbody tr th:only-of-type {\n",
       "        vertical-align: middle;\n",
       "    }\n",
       "\n",
       "    .dataframe tbody tr th {\n",
       "        vertical-align: top;\n",
       "    }\n",
       "\n",
       "    .dataframe thead th {\n",
       "        text-align: right;\n",
       "    }\n",
       "</style>\n",
       "<table border=\"1\" class=\"dataframe\">\n",
       "  <thead>\n",
       "    <tr style=\"text-align: right;\">\n",
       "      <th></th>\n",
       "      <th>count</th>\n",
       "      <th>percent</th>\n",
       "    </tr>\n",
       "    <tr>\n",
       "      <th>has_contents_page</th>\n",
       "      <th></th>\n",
       "      <th></th>\n",
       "    </tr>\n",
       "  </thead>\n",
       "  <tbody>\n",
       "    <tr>\n",
       "      <th>False</th>\n",
       "      <td>1795</td>\n",
       "      <td>87.947085</td>\n",
       "    </tr>\n",
       "    <tr>\n",
       "      <th>True</th>\n",
       "      <td>246</td>\n",
       "      <td>12.052915</td>\n",
       "    </tr>\n",
       "  </tbody>\n",
       "</table>\n",
       "</div>"
      ],
      "text/plain": [
       "                   count    percent\n",
       "has_contents_page                  \n",
       "False               1795  87.947085\n",
       "True                 246  12.052915"
      ]
     },
     "execution_count": 10,
     "metadata": {},
     "output_type": "execute_result"
    }
   ],
   "source": [
    "contents_page_df = pd.DataFrame.from_dict(has_contents_page, orient=\"index\").rename(columns={0: \"has_contents_page\"})\n",
    "contents_page_count = contents_page_df.reset_index().groupby(\"has_contents_page\").count().rename(columns={\"index\": \"count\"})\n",
    "contents_page_count['percent'] = contents_page_count['count'] / contents_page_count['count'].sum() * 100\n",
    "\n",
    "contents_page_count"
   ]
  },
  {
   "cell_type": "code",
   "execution_count": 11,
   "id": "5dcc042b-31ad-4f22-b75a-a5dd1b71f581",
   "metadata": {},
   "outputs": [
    {
     "data": {
      "text/plain": [
       "{'kind': 1,\n",
       " 'xref': 21,\n",
       " 'page': 0,\n",
       " 'to': Point(61.0, 71.0),\n",
       " 'zoom': 0.0,\n",
       " 'collapse': True}"
      ]
     },
     "execution_count": 11,
     "metadata": {},
     "output_type": "execute_result"
    }
   ],
   "source": [
    "contents_page[\"/Users/kalyan/Documents/CPR/policy-search/data/corpus/content/cclw-9112-5a84badb44ce408a9bbef6703e868274.pdf\"][0][-1]"
   ]
  },
  {
   "cell_type": "code",
   "execution_count": 12,
   "id": "568dc9a2-4b2e-4643-893f-b5c8420bf9ac",
   "metadata": {},
   "outputs": [],
   "source": [
    "def contents_uses_coords(contents):\n",
    "    \"\"\"\n",
    "    Determine whether contents page uses coordinates (points to a place within a page), or just points to a page.\n",
    "    Bookmarks that point to a coordinate in a page could be a useful source of labels for section headings.\n",
    "    \"\"\"\n",
    "    \n",
    "    for bookmark in contents:\n",
    "        if bookmark[-1].get(\"to\"):\n",
    "            if bookmark[-1].get(\"to\").y != 0: \n",
    "                return True \n",
    "        elif bookmark[-1].get(\"kind\") == 2:\n",
    "            # Means the link points to a named position in the document.\n",
    "            # https://pymupdf.readthedocs.io/en/latest/vars.html#linkdest-kinds\n",
    "            return True\n",
    "        \n",
    "    return False\n"
   ]
  },
  {
   "cell_type": "code",
   "execution_count": 13,
   "id": "99c311c9-131f-4b84-9c7d-e142b2be61af",
   "metadata": {},
   "outputs": [
    {
     "data": {
      "application/vnd.jupyter.widget-view+json": {
       "model_id": "2fddbfa3c44e497da673b7f07a1bd4ff",
       "version_major": 2,
       "version_minor": 0
      },
      "text/plain": [
       "  0%|          | 0/2041 [00:00<?, ?it/s]"
      ]
     },
     "metadata": {},
     "output_type": "display_data"
    }
   ],
   "source": [
    "contents_page_stats = []\n",
    "\n",
    "for filename, contents in tqdm(contents_page.items()):\n",
    "    if contents:\n",
    "        try:\n",
    "            contents_page_stats.append({\n",
    "                \"filename\": filename,\n",
    "                \"contents_length\": len(contents),\n",
    "                \"contents_uses_coords\": contents_uses_coords(contents),\n",
    "            })\n",
    "        except:\n",
    "            print(f\"{filename} failed\")\n"
   ]
  },
  {
   "cell_type": "code",
   "execution_count": 14,
   "id": "0beb67d9-be55-4f97-bd14-b79ed955fef3",
   "metadata": {},
   "outputs": [
    {
     "data": {
      "image/png": "[encoded data removed]",
      "text/plain": [
       "<Figure size 432x288 with 1 Axes>"
      ]
     },
     "metadata": {
      "needs_background": "light"
     },
     "output_type": "display_data"
    }
   ],
   "source": [
    "sns.boxplot(\n",
    "    x=pd.DataFrame(contents_page_stats)[\"contents_length\"], \n",
    "    showfliers=False, \n",
    "    showmeans=True).set_title(\"Lengths of bookmarks/contents pages in 250 documents, excluding outliers\");\n"
   ]
  },
  {
   "cell_type": "code",
   "execution_count": 18,
   "id": "18fcf2dc-c15b-415a-adff-31dc53fd7bc2",
   "metadata": {},
   "outputs": [
    {
     "data": {
      "text/plain": [
       "contents_uses_coords\n",
       "False     96\n",
       "True     150\n",
       "Name: filename, dtype: int64"
      ]
     },
     "execution_count": 18,
     "metadata": {},
     "output_type": "execute_result"
    }
   ],
   "source": [
    "pd.DataFrame(contents_page_stats).groupby(\"contents_uses_coords\").count()[\"filename\"]"
   ]
  },
  {
   "cell_type": "code",
   "execution_count": 20,
   "id": "54a5263f-0ab9-4192-9e27-6884d024fcdf",
   "metadata": {},
   "outputs": [
    {
     "data": {
      "text/plain": [
       "Text(0.5, 1.0, \"Distribution of 'contents page length'/'page count'\")"
      ]
     },
     "execution_count": 20,
     "metadata": {},
     "output_type": "execute_result"
    },
    {
     "data": {
      "image/png": "[encoded data removed]",
      "text/plain": [
       "<Figure size 432x288 with 1 Axes>"
      ]
     },
     "metadata": {
      "needs_background": "light"
     },
     "output_type": "display_data"
    }
   ],
   "source": [
    "contents_page_df = pd.DataFrame(contents_page_stats).set_index(\"filename\")\n",
    "contents_page_df = pd.concat([contents_page_df, page_count_df], axis=1, ignore_index=False).rename(columns={\"count\": \"page_count\"}).dropna(subset=[\"contents_length\"])\n",
    "\n",
    "contents_page_df[\"contents_length/page_count\"] = contents_page_df[\"contents_length\"] / contents_page_df[\"page_count\"]\n",
    "\n",
    "sns.histplot(x=contents_page_df[\"contents_length/page_count\"], binwidth=1).set_title(\"Distribution of 'contents page length'/'page count'\")"
   ]
  },
  {
   "cell_type": "code",
   "execution_count": null,
   "id": "2677f506-f4df-4a07-afa5-fb6f096337e8",
   "metadata": {},
   "outputs": [],
   "source": []
  }
 ],
 "metadata": {
  "kernelspec": {
   "display_name": "Python 3 (ipykernel)",
   "language": "python",
   "name": "python3"
  },
  "language_info": {
   "codemirror_mode": {
    "name": "ipython",
    "version": 3
   },
   "file_extension": ".py",
   "mimetype": "text/x-python",
   "name": "python",
   "nbconvert_exporter": "python",
   "pygments_lexer": "ipython3",
   "version": "3.8.7"
  }
 },
 "nbformat": 4,
 "nbformat_minor": 5
}
